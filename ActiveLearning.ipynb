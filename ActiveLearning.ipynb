{
  "nbformat": 4,
  "nbformat_minor": 0,
  "metadata": {
    "colab": {
      "provenance": []
    },
    "kernelspec": {
      "name": "python3",
      "display_name": "Python 3"
    },
    "language_info": {
      "name": "python"
    }
  },
  "cells": [
    {
      "cell_type": "markdown",
      "source": [
        "**Assignment 3**\n"
      ],
      "metadata": {
        "id": "9sl93YVaoc0Z"
      }
    },
    {
      "cell_type": "code",
      "source": [
        "!pip install modAL\n",
        "\n"
      ],
      "metadata": {
        "colab": {
          "base_uri": "https://localhost:8080/"
        },
        "id": "mNCf_qf8se4b",
        "outputId": "73fac908-e655-4d14-c59d-ff558299e919"
      },
      "execution_count": 2,
      "outputs": [
        {
          "output_type": "stream",
          "name": "stdout",
          "text": [
            "Looking in indexes: https://pypi.org/simple, https://us-python.pkg.dev/colab-wheels/public/simple/\n",
            "Collecting modAL\n",
            "  Downloading modAL-0.4.1-py3-none-any.whl (27 kB)\n",
            "Requirement already satisfied: numpy>=1.13 in /usr/local/lib/python3.10/dist-packages (from modAL) (1.22.4)\n",
            "Requirement already satisfied: scikit-learn>=0.18 in /usr/local/lib/python3.10/dist-packages (from modAL) (1.2.2)\n",
            "Requirement already satisfied: scipy>=0.18 in /usr/local/lib/python3.10/dist-packages (from modAL) (1.10.1)\n",
            "Requirement already satisfied: pandas>=1.1.0 in /usr/local/lib/python3.10/dist-packages (from modAL) (1.5.3)\n",
            "Requirement already satisfied: python-dateutil>=2.8.1 in /usr/local/lib/python3.10/dist-packages (from pandas>=1.1.0->modAL) (2.8.2)\n",
            "Requirement already satisfied: pytz>=2020.1 in /usr/local/lib/python3.10/dist-packages (from pandas>=1.1.0->modAL) (2022.7.1)\n",
            "Requirement already satisfied: joblib>=1.1.1 in /usr/local/lib/python3.10/dist-packages (from scikit-learn>=0.18->modAL) (1.2.0)\n",
            "Requirement already satisfied: threadpoolctl>=2.0.0 in /usr/local/lib/python3.10/dist-packages (from scikit-learn>=0.18->modAL) (3.1.0)\n",
            "Requirement already satisfied: six>=1.5 in /usr/local/lib/python3.10/dist-packages (from python-dateutil>=2.8.1->pandas>=1.1.0->modAL) (1.16.0)\n",
            "Installing collected packages: modAL\n",
            "Successfully installed modAL-0.4.1\n"
          ]
        }
      ]
    },
    {
      "cell_type": "code",
      "source": [
        "#Libraries\n",
        "from modAL.models import ActiveLearner\n",
        "from modAL.uncertainty import uncertainty_sampling\n",
        "from sklearn.datasets import load_diabetes\n",
        "from sklearn.model_selection import train_test_split\n",
        "from sklearn.ensemble import RandomForestRegressor"
      ],
      "metadata": {
        "id": "AyP3CTF9odrz"
      },
      "execution_count": 3,
      "outputs": []
    },
    {
      "cell_type": "code",
      "source": [
        "# Load the Diabetes dataset\n",
        "diabetes = load_diabetes()\n",
        "X, y = diabetes.data, diabetes.target\n",
        "\n",
        "# Split the data into a pool set and a test set (50% each)\n",
        "X_pool, X_test, y_pool, y_test = train_test_split(X, y, test_size=0.5, random_state=42)\n"
      ],
      "metadata": {
        "id": "cPY0BEH4owEm"
      },
      "execution_count": 4,
      "outputs": []
    },
    {
      "cell_type": "code",
      "source": [
        "#model 1\n",
        "# Create a random forest regressor\n",
        "regressor = RandomForestRegressor()\n",
        "\n",
        "# Create an active learner using uncertainty sampling\n",
        "al_sampling = ActiveLearner(\n",
        "    estimator=regressor,\n",
        "    X_training=X_pool,\n",
        "    y_training=y_pool,\n",
        "    query_strategy=uncertainty_sampling,\n",
        ")\n",
        "\n",
        "# Train and test the active learner\n",
        "al_sampling_score = al_sampling.score(X_test, y_test)\n",
        "print(al_sampling_score)"
      ],
      "metadata": {
        "colab": {
          "base_uri": "https://localhost:8080/"
        },
        "id": "0ye33ZSKo0YT",
        "outputId": "1b437708-8521-4bbc-f39b-69491afca169"
      },
      "execution_count": 6,
      "outputs": [
        {
          "output_type": "stream",
          "name": "stdout",
          "text": [
            "0.4145407102202131\n"
          ]
        }
      ]
    },
    {
      "cell_type": "code",
      "source": [
        "#model 2\n",
        "\n",
        "# Create a learner using random sampling without active learning\n",
        "random_sampling = regressor.fit(X_pool, y_pool)\n",
        "\n",
        "# Evaluate the random sampling learner\n",
        "random_sampling_score = random_sampling.score(X_test, y_test)\n",
        "print(random_sampling_score)"
      ],
      "metadata": {
        "colab": {
          "base_uri": "https://localhost:8080/"
        },
        "id": "A2o3-nGpo0Vv",
        "outputId": "e7977d9c-9a90-4ace-fd4f-23b982c49bbc"
      },
      "execution_count": 7,
      "outputs": [
        {
          "output_type": "stream",
          "name": "stdout",
          "text": [
            "0.41442929031229725\n"
          ]
        }
      ]
    },
    {
      "cell_type": "code",
      "source": [
        "# Print the results\n",
        "print(\"Active Learning (Uncertainty Sampling) R2 Score: {:.2f}%\".format(al_sampling_score*100))\n",
        "print(\"Random Sampling R2 Score: {:.2f}%\".format(random_sampling_score*100))\n"
      ],
      "metadata": {
        "colab": {
          "base_uri": "https://localhost:8080/"
        },
        "id": "v5edqBGfo0Sy",
        "outputId": "56090d46-b91d-41e9-ff9e-92351fbb874d"
      },
      "execution_count": 8,
      "outputs": [
        {
          "output_type": "stream",
          "name": "stdout",
          "text": [
            "Active Learning (Uncertainty Sampling) R2 Score: 41.45%\n",
            "Random Sampling R2 Score: 41.44%\n"
          ]
        }
      ]
    },
    {
      "cell_type": "code",
      "source": [
        "# Interpretation of the results\n",
        "print(\"The R2 score measures the goodness of fit of the regression models.\")\n",
        "print(\"Higher R2 score indicates a better fit to the data.\")\n",
        "print(\"Comparing the results:\")\n",
        "if al_sampling_score > random_sampling_score:\n",
        "    print(\"The active learning (uncertainty sampling) model achieved a higher R2 score, suggesting it has a better fit to the data.\")\n",
        "elif al_sampling_score < random_sampling_score:\n",
        "    print(\"The random sampling model achieved a higher R2 score, suggesting it has a better fit to the data.\")\n",
        "else:\n",
        "    print(\"Both models achieved the same R2 score, indicating similar performance.\")\n"
      ],
      "metadata": {
        "colab": {
          "base_uri": "https://localhost:8080/"
        },
        "id": "PVcW8rC5o0Km",
        "outputId": "86d5ecd8-fd1b-4250-871d-2f4af31b7d78"
      },
      "execution_count": 9,
      "outputs": [
        {
          "output_type": "stream",
          "name": "stdout",
          "text": [
            "The R2 score measures the goodness of fit of the regression models.\n",
            "Higher R2 score indicates a better fit to the data.\n",
            "Comparing the results:\n",
            "The active learning (uncertainty sampling) model achieved a higher R2 score, suggesting it has a better fit to the data.\n"
          ]
        }
      ]
    },
    {
      "cell_type": "markdown",
      "source": [
        "**Empirical Results:**\n",
        "\n",
        "\n",
        "Based on Active Learning (Uncertainty Sampling) R2 Score is: 42.27% and\n",
        "Random Sampling R2 Score is: 42.03%.\n",
        "For the comparing of the results applied the R2 score that metric measures the goodness of fit of the regression models which means the *active learning with uncertainty sampling model* achieved a higher R2 score comparing the random sampling, suggesting it has a better fit to the data.\n",
        "\n",
        "\n",
        "\n",
        "\n",
        "**Note: The results are changing because the data are randomly selected. For this reason, I wrote an extra part of the code which explain the results everytime you rerun it.**\n"
      ],
      "metadata": {
        "id": "aIJrKLOzpQm4"
      }
    }
  ]
}
